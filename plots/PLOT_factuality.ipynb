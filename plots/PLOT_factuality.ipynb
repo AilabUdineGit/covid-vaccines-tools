{
 "cells": [
  {
   "cell_type": "code",
   "execution_count": null,
   "metadata": {},
   "outputs": [],
   "source": []
  },
  {
   "cell_type": "markdown",
   "metadata": {},
   "source": [
    "# Domain Factuality Analysis"
   ]
  },
  {
   "cell_type": "code",
   "execution_count": 1,
   "metadata": {},
   "outputs": [],
   "source": [
    "import pandas as pd\n",
    "import matplotlib.pyplot as plt\n",
    "from tqdm import tqdm"
   ]
  },
  {
   "cell_type": "code",
   "execution_count": 2,
   "metadata": {},
   "outputs": [
    {
     "name": "stderr",
     "output_type": "stream",
     "text": [
      "global urls: 129511it [00:05, 22280.80it/s]\n"
     ]
    }
   ],
   "source": [
    "from ast import literal_eval\n",
    "df_urls = None\n",
    "for ym in [\"2020-12\"] + [f\"2021-0{k}\" for k in range(1,10)]:\n",
    "    tmp = pd.read_csv(f\"../data/{ym}.csv\")\n",
    "    if df_urls is None:\n",
    "        df_urls = tmp\n",
    "    else:\n",
    "        df_urls = pd.concat((df_urls, tmp))\n",
    "df_urls.reset_index(drop=True, inplace=True)\n",
    "        \n",
    "for col_name in [\"entities\", \"sentiment_value\", \"ent_urls\"]:\n",
    "    df_urls[col_name] = df_urls[col_name].apply(lambda x: literal_eval(x) if not pd.isna(x) else x)  \n",
    "    \n",
    "df_urls = df_urls[~df_urls.sentiment_value.isna()]\n",
    "df_urls = df_urls[df_urls.created_at < \"2021-09-07\"]\n",
    "\n",
    "df_urls[\"urls\"]=df_urls.ent_urls.apply(lambda x: [y[\"expanded_url\"] for y in x])\n",
    "\n",
    "for row_idx, row in tqdm(df_urls.iterrows(), desc=f\"global urls\"):\n",
    "    base_urls = []\n",
    "    for url in row.urls:\n",
    "        exp_url = url\n",
    "        idx = exp_url.find(\"//\")\n",
    "        exp_url = exp_url[idx+2:]\n",
    "        base_urls.append(exp_url.split(\"/\")[0])\n",
    "    df_urls.at[row_idx, \"urls\"] = base_urls"
   ]
  },
  {
   "cell_type": "code",
   "execution_count": 3,
   "metadata": {},
   "outputs": [
    {
     "name": "stderr",
     "output_type": "stream",
     "text": [
      "100%|██████████| 129511/129511 [00:17<00:00, 7256.23it/s]\n",
      "100%|██████████| 129511/129511 [00:05<00:00, 21720.63it/s]\n"
     ]
    }
   ],
   "source": [
    "# get all urls\n",
    "df_rating = pd.read_csv(\"assets/iffi.csv\")\n",
    "df_rating.set_index(\"Domain\",inplace=True)\n",
    "\n",
    "def get_rating(url, rating):\n",
    "    try:\n",
    "        rating = df_rating.loc[url][rating]\n",
    "    except:\n",
    "        rating = \"P\"\n",
    "    return rating\n",
    "\n",
    "\n",
    "df_urls['url_rating'] = None\n",
    "df_urls['url_factual'] = None\n",
    "for idx, row in tqdm(df_urls.iterrows(), total=len(df_urls)):\n",
    "    df_urls.at[idx, 'url_rating'] = [get_rating(url,'rating') for url in row.urls]\n",
    "    df_urls.at[idx, 'url_factual'] = [get_rating(url,'factual') for url in row.urls]\n",
    "\n",
    "new_df = {i:[] for i in ['tweet_id', 'url', 'rating', 'factual']}\n",
    "for idx, row in tqdm(df_urls.iterrows(), total=len(df_urls)):\n",
    "    for url, rating, factual in zip(row.urls,row.url_rating, row.url_factual):\n",
    "        new_df['tweet_id'].append(row.tweet_id) \n",
    "        new_df['url'].append(url)\n",
    "        new_df['rating'].append(rating)\n",
    "        new_df['factual'].append(factual)\n",
    "\n",
    "df = pd.DataFrame(new_df)\n",
    "\n",
    "\n",
    "\n"
   ]
  },
  {
   "cell_type": "code",
   "execution_count": 4,
   "metadata": {},
   "outputs": [],
   "source": [
    "df.to_pickle(\"assets/tweets_url_rating.pkl\")\n",
    "df = pd.read_pickle(\"assets/tweets_url_rating.pkl\")\n",
    "df = df[df.url != 'twitter.com']"
   ]
  },
  {
   "cell_type": "markdown",
   "metadata": {},
   "source": [
    "## Rating"
   ]
  },
  {
   "cell_type": "code",
   "execution_count": 5,
   "metadata": {},
   "outputs": [
    {
     "data": {
      "text/plain": [
       "['P                              84271      4382.267290691628',\n",
       " 'RC                             7          0.3640145605824233',\n",
       " 'conspiracy-pseudoscience       874        45.44981799271971',\n",
       " 'fake-news                      1021       53.094123764950595',\n",
       " 'right                          2          0.10400416016640665',\n",
       " 'unknown                        19         0.9880395215808633']"
      ]
     },
     "execution_count": 5,
     "metadata": {},
     "output_type": "execute_result"
    }
   ],
   "source": [
    "positives = len(df[df.rating != \"P\"])\n",
    "[f\"{name:<30} {len(group):<10} {len(group)*100/positives:<10}\" for name,group in df.groupby(\"rating\")]"
   ]
  },
  {
   "cell_type": "code",
   "execution_count": 6,
   "metadata": {},
   "outputs": [
    {
     "data": {
      "text/plain": [
       "['P                              84271      4382.267290691628',\n",
       " 'RC                             7          0.3640145605824233',\n",
       " 'conspiracy-pseudoscience       874        45.44981799271971',\n",
       " 'fake-news                      1021       53.094123764950595',\n",
       " 'right                          2          0.10400416016640665',\n",
       " 'unknown                        19         0.9880395215808633']"
      ]
     },
     "execution_count": 6,
     "metadata": {},
     "output_type": "execute_result"
    }
   ],
   "source": [
    "positives = len(df[df.rating != \"P\"])\n",
    "[f\"{name:<30} {len(group):<10} {len(group)*100/positives:<10}\" for name,group in df.groupby(\"rating\")]"
   ]
  },
  {
   "cell_type": "code",
   "execution_count": 7,
   "metadata": {},
   "outputs": [
    {
     "data": {
      "image/png": "[encoded data removed]",
      "text/plain": [
       "<Figure size 432x288 with 1 Axes>"
      ]
     },
     "metadata": {
      "needs_background": "light"
     },
     "output_type": "display_data"
    }
   ],
   "source": [
    "freqs = {n:len(group) for n,group in df.groupby('rating') if n != \"P\"}\n",
    "\n",
    "classes = ['conspiracy-pseudoscience','fake-news','unknown',\"RC\",\"right\",\"left\"]\n",
    "for c in classes:\n",
    "    if c not in freqs:\n",
    "        freqs[c]=0\n",
    "        \n",
    "plt.yscale(\"log\")\n",
    "plt.rcParams[\"figure.figsize\"] = (8,8)\n",
    "\n",
    "plt.bar(0,freqs['conspiracy-pseudoscience'])\n",
    "plt.bar(1,freqs['fake-news'])\n",
    "plt.bar(2,freqs['unknown'])\n",
    "plt.bar(3,freqs['RC'])\n",
    "plt.bar(4,freqs['right'])\n",
    "plt.bar(5,freqs['left'])\n",
    "    \n",
    "plt.xticks(list(range(len(freqs.keys()))),[\"CP\", \"FN\", \"U\", \"RC\", \"R\", \"L\"], fontsize=30)\n",
    "plt.yticks(fontsize=30)\n",
    "plt.tight_layout()\n",
    "plt.savefig(\"output/plot_factuality_rating.pdf\")\n",
    "plt.show()"
   ]
  },
  {
   "cell_type": "markdown",
   "metadata": {},
   "source": [
    "## Factuality"
   ]
  },
  {
   "cell_type": "code",
   "execution_count": 8,
   "metadata": {},
   "outputs": [
    {
     "data": {
      "image/png": "[encoded data removed]",
      "text/plain": [
       "<Figure size 576x576 with 1 Axes>"
      ]
     },
     "metadata": {
      "needs_background": "light"
     },
     "output_type": "display_data"
    }
   ],
   "source": [
    "freqs = {n:len(group) for n,group in df.groupby('factual') if n != \"P\"}\n",
    "freqs[\"low\"] = freqs[\"left\"]\n",
    "\n",
    "classes = ['high','mixed','low',\"very-low\",\"unknown\"]\n",
    "for c in classes:\n",
    "    if c not in freqs:\n",
    "        freqs[c]=0\n",
    "\n",
    "k_to_del = []\n",
    "for k in freqs:\n",
    "    if k not in classes:\n",
    "        k_to_del.append(k)\n",
    "for k in k_to_del:\n",
    "    del freqs[k]\n",
    "        \n",
    "plt.yscale(\"log\")\n",
    "plt.rcParams[\"figure.figsize\"] = (8,8)\n",
    "\n",
    "plt.bar(0,freqs['high'])\n",
    "plt.bar(1,freqs['mixed'])\n",
    "plt.bar(2,freqs['low'])\n",
    "plt.bar(3,freqs['very-low'])\n",
    "plt.bar(4,freqs['unknown'])\n",
    "    \n",
    "plt.xticks(list(range(len(freqs.keys()))),[\"High\", \"Mixed\", \"Low\", \"Very\\nLow\", \"U\"], fontsize=30)\n",
    "plt.yticks(fontsize=30)\n",
    "plt.tight_layout()\n",
    "plt.savefig(\"output/plot_factuality_fact_level.pdf\")\n",
    "plt.show()"
   ]
  },
  {
   "cell_type": "markdown",
   "metadata": {},
   "source": [
    "## Positive"
   ]
  },
  {
   "cell_type": "code",
   "execution_count": 9,
   "metadata": {},
   "outputs": [
    {
     "data": {
      "text/plain": [
       "[(3414, 'bit.ly', 4.051215720710565),\n",
       " (2423, 'www.theguardian.com', 2.875247712736291),\n",
       " (2300, 'www.reuters.com', 2.729290028598213),\n",
       " (1952, 'www.nytimes.com', 2.316336580792918),\n",
       " (1806, 'www.abc.net.au', 2.1430859963688578),\n",
       " (1743, 'www.cnbc.com', 2.068327182542037),\n",
       " (959, 'www.dailymail.co.uk', 1.1379952771416026),\n",
       " (954, 'dlvr.it', 1.1320620379489978),\n",
       " (948, 'www.google.com', 1.124942150917872),\n",
       " (947, 'www.fda.gov', 1.1237555030793511)]"
      ]
     },
     "execution_count": 9,
     "metadata": {},
     "output_type": "execute_result"
    }
   ],
   "source": [
    "df_positive = df[df.factual == \"P\"]\n",
    "tot = len(df_positive)\n",
    "freqs = [(len(group), name, len(group)*100/tot) for name,group in df_positive.groupby('url')]\n",
    "\n",
    "sorted(freqs,reverse=True)[:10]"
   ]
  },
  {
   "cell_type": "code",
   "execution_count": 10,
   "metadata": {},
   "outputs": [
    {
     "data": {
      "image/png": "[encoded data removed]",
      "text/plain": [
       "<Figure size 576x576 with 1 Axes>"
      ]
     },
     "metadata": {
      "needs_background": "light"
     },
     "output_type": "display_data"
    }
   ],
   "source": [
    "pos = df[df.factual == \"P\"]\n",
    "neg = df[df.factual != \"P\"]\n",
    "\n",
    "plt.yscale(\"log\")\n",
    "plt.rcParams[\"figure.figsize\"] = (8,8)\n",
    "\n",
    "plt.bar(0, len(pos), label=\"Positive\")\n",
    "plt.bar(1, len(neg), label=\"Negative\")\n",
    "plt.text(x=-0.16,y=len(pos)-(len(pos)*0.3),s=\"98.2%\", fontsize=30, color=\"w\")\n",
    "plt.text(x=0.85,y=len(neg)+(len(neg)*0.1),s=\"1.8%\", fontsize=30, color=\"k\")\n",
    "    \n",
    "plt.xticks([0,1], [\"Reliable\",\"Unreliable\"], fontsize=35)\n",
    "plt.yticks(fontsize=30)\n",
    "plt.tight_layout()\n",
    "plt.savefig(\"output/plot_reliable_vs_unreliable.pdf\")\n",
    "plt.show()"
   ]
  },
  {
   "cell_type": "code",
   "execution_count": null,
   "metadata": {},
   "outputs": [],
   "source": []
  }
 ],
 "metadata": {
  "interpreter": {
   "hash": "aee8b7b246df8f9039afb4144a1f6fd8d2ca17a180786b69acc140d282b71a49"
  },
  "kernelspec": {
   "display_name": "ade_twimed_env",
   "language": "python",
   "name": "ade_twimed_env"
  },
  "language_info": {
   "codemirror_mode": {
    "name": "ipython",
    "version": 3
   },
   "file_extension": ".py",
   "mimetype": "text/x-python",
   "name": "python",
   "nbconvert_exporter": "python",
   "pygments_lexer": "ipython3",
   "version": "3.8.0"
  }
 },
 "nbformat": 4,
 "nbformat_minor": 4
}
