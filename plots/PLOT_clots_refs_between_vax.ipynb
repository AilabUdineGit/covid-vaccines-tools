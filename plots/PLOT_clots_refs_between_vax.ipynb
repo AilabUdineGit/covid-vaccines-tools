{
 "cells": [
  {
   "cell_type": "raw",
   "metadata": {},
   "source": []
  },
  {
   "cell_type": "markdown",
   "metadata": {},
   "source": [
    "# Clots Mentions Frequences: comparison between Vaccines"
   ]
  },
  {
   "cell_type": "code",
   "execution_count": 1,
   "metadata": {},
   "outputs": [],
   "source": [
    "from tqdm import tqdm\n",
    "import pandas as pd\n",
    "from functools import reduce\n",
    "from io import open\n",
    "import json\n",
    "from datetime import date,datetime, timedelta\n",
    "import nltk\n",
    "from wordcloud import WordCloud\n",
    "import matplotlib.pyplot as plt"
   ]
  },
  {
   "cell_type": "code",
   "execution_count": 4,
   "metadata": {
    "tags": []
   },
   "outputs": [],
   "source": [
    "df = pd.read_pickle(\"../full_db.pkl\")\n",
    "\n",
    "ANALYZE_DAYS = False\n",
    "\n",
    "df = df[df.entities.str.len()>0]\n",
    "df = df[~df.sentiment_value.isna()]\n",
    "df = df[df.created_at < \"2021-09-07\"]\n",
    "\n",
    "new_df = []\n",
    "for idx, row in df.iterrows():\n",
    "    d = row.to_dict()\n",
    "    for vax in d[\"vaccines\"]:\n",
    "        d2 = d.copy()\n",
    "        del d2[\"vaccines\"]\n",
    "        d2[\"vaccine_name\"] = vax\n",
    "        new_df.append(d2)\n",
    "df = pd.DataFrame(new_df)\n",
    "\n",
    "df.created_at = pd.to_datetime(df.created_at)\n",
    "df[\"ym\"] = df.created_at.astype(str).str[:-3]\n",
    "df[\"roberta_label\"] = df.sentiment_value.apply(lambda row: row[\"label\"])\n",
    "\n",
    "data = []\n",
    "for _date, d in df[df.vaccine_name==\"astrazeneca\"].groupby(\"created_at\"):\n",
    "    \n",
    "    vc = d.roberta_label.value_counts()\n",
    "    \n",
    "    item = {\n",
    "        \"date\": _date,\n",
    "        \"pos_sum\": vc[\"LABEL_2\"] / len(d) if \"LABEL_2\" in vc else 0,\n",
    "        \"neu_sum\": vc[\"LABEL_1\"] / len(d) if \"LABEL_1\" in vc else 0,\n",
    "        \"neg_sum\": vc[\"LABEL_0\"] / len(d) if \"LABEL_0\" in vc else 0,\n",
    "    }\n",
    "\n",
    "    data.append(item)\n",
    "    \n",
    "data = pd.DataFrame(data)\n",
    "\n",
    "\n",
    "data.index = data.date\n",
    "data.drop(\"date\", axis=1, inplace = True)\n",
    "\n",
    "\n",
    "data[\"pos_ewm\"] = data.pos_sum.ewm(halflife = \"4 days\", times=pd.DatetimeIndex(data.index)).mean()\n",
    "data[\"neu_ewm\"] = data.neu_sum.ewm(halflife = \"4 days\", times=pd.DatetimeIndex(data.index)).mean()\n",
    "data[\"neg_ewm\"] = data.neg_sum.ewm(halflife = \"4 days\", times=pd.DatetimeIndex(data.index)).mean()\n"
   ]
  },
  {
   "cell_type": "code",
   "execution_count": 6,
   "metadata": {},
   "outputs": [],
   "source": [
    "ANALYZE_DAYS = False\n",
    "PLOT_FREQ_OHTER = False\n",
    "NORMALIZE_FREQ = False\n",
    "# keep only the most important ones\n",
    "VACCINES_TO_CHECK = [\"astrazeneca\", \"pfizer\", \"moderna\", \"johnson & johnson\"]\n",
    "vaccines_color = {\n",
    "    'astrazeneca': \"coral\",\n",
    "    'pfizer': \"mediumseagreen\",\n",
    "    'moderna': \"#777\",\n",
    "    \"johnson & johnson\": 'cornflowerblue'\n",
    "}\n",
    "\n",
    "vaccines_names = {\n",
    "    'astrazeneca': \"AstraZeneca\",\n",
    "    'pfizer': \"Pfizer\",\n",
    "    'moderna': \"Moderna\",\n",
    "    \"johnson & johnson\": 'Johnson &\\nJohnson'\n",
    "}"
   ]
  },
  {
   "cell_type": "code",
   "execution_count": 7,
   "metadata": {},
   "outputs": [],
   "source": [
    "df[\"norm_eng\"] = df.entities.apply(lambda x: [ent[\"text\"][\"norm_eng\"] for ent in x])"
   ]
  },
  {
   "cell_type": "code",
   "execution_count": 8,
   "metadata": {},
   "outputs": [],
   "source": [
    "# calculate if there are some mentions of clots\n",
    "# mask = [(df.norm_eng.str.contains(w)) for w in [\"ischemic stroke\", \"ischemic\", \"ischemy\", \"ischemia\", \"ischaemia\", \"thrombosis\", \"embolism\", \"embolus\", \"ictus\", \"apoplexy\", \"blockage\", \"clotting\", \"coagulation\", \"coronary\", \"coronary thrombosis\", \"occlusion\", \"seizure\", \"clot\", \"blockade\", \"fit\", \"collapse\", \"CVA\", \"cerebrovascular accident\", \"cerebral vascular accident\", \"cerebral haemorrhage\"]]\n",
    "mask = [(df.norm_eng.apply(lambda x: w in x)) for w in [\"ischemic stroke\", \"ischemic\", \"ischemy\", \"ischemia\", \"ischaemia\", \"thrombosis\", \"embolism\", \"embolus\", \"ictus\", \"apoplexy\", \"blockage\", \"clotting\", \"coagulation\", \"coronary\", \"coronary thrombosis\", \"occlusion\", \"seizure\", \"clot\", \"blockade\", \"fit\", \"collapse\", \"CVA\", \"cerebrovascular accident\", \"cerebral vascular accident\", \"cerebral haemorrhage\"]]\n",
    "mask = reduce(lambda x,y: x|y, mask, [False]*len(df))\n",
    "df[\"clots_cit\"] = mask"
   ]
  },
  {
   "cell_type": "code",
   "execution_count": 9,
   "metadata": {
    "tags": []
   },
   "outputs": [],
   "source": [
    "def get_interval_dates():\n",
    "\n",
    "    sdate = date(2020, 12, 10)   # start date\n",
    "    edate = date(2021, 9, 6)     # end date\n",
    "\n",
    "    delta = edate - sdate       # as timedelta\n",
    "\n",
    "    dates = []\n",
    "    for i in range(delta.days + 1):\n",
    "        new_date = sdate + timedelta(days=i)\n",
    "        txt_date = f\"{new_date.year}-{new_date.strftime('%m')}\"\n",
    "        if ANALYZE_DAYS:\n",
    "            txt_date += f\"-{new_date.strftime('%d')}\"\n",
    "        dates.append(txt_date)\n",
    "    return list(set(dates))"
   ]
  },
  {
   "cell_type": "code",
   "execution_count": 10,
   "metadata": {
    "tags": []
   },
   "outputs": [],
   "source": [
    "# count frequencies for each vaccine\n",
    "vaccines_dfs = df.groupby(\"vaccine_name\")\n",
    "dates =  sorted(get_interval_dates())\n",
    "clots_cit = {}\n",
    "tweet_per_day = {}\n",
    "\n",
    "for vaccine_name, data in vaccines_dfs:\n",
    "    if vaccine_name in VACCINES_TO_CHECK:\n",
    "        clots_cit[vaccine_name] = {'date': [], 'freq_cit': [], 'freq_not_cit': []}\n",
    "        months_dfs = data.groupby(\"ym\")\n",
    "        for _date in dates:\n",
    "            exists_date = _date in months_dfs.groups.keys()\n",
    "            if exists_date:\n",
    "                d = months_dfs.get_group(_date)\n",
    "                tweet_per_day[_date] = d[d.clots_cit].tweet_id.unique().shape[0] if _date not in tweet_per_day else (tweet_per_day[_date] + d[d.clots_cit].tweet_id.unique().shape[0])\n",
    "            else:\n",
    "                tweet_per_day[_date] = 0 if _date not in tweet_per_day else tweet_per_day[_date]\n",
    "\n",
    "            clots_cit[vaccine_name]['date'].append(_date)\n",
    "            clots_cit[vaccine_name]['freq_cit'].append((d[d.clots_cit].tweet_id.unique().shape[0] / (sum_freq_cit if NORMALIZE_FREQ else 1)) if exists_date else 0.0)\n",
    "            clots_cit[vaccine_name]['freq_not_cit'].append((d[~d.clots_cit].tweet_id.unique().shape[0] / (sum_freq_cit if NORMALIZE_FREQ else 1)) if exists_date else 0.0)               \n",
    "               \n",
    "\n",
    "if not PLOT_FREQ_OHTER:\n",
    "    for vaccine_name,_ in vaccines_dfs:\n",
    "        if vaccine_name in VACCINES_TO_CHECK:\n",
    "            for _date in dates:\n",
    "                pos = clots_cit[vaccine_name]['date'].index(_date)\n",
    "                clots_cit[vaccine_name]['freq_cit'][pos] /= (tweet_per_day[_date] if tweet_per_day[_date] != 0 else 1)\n",
    "                "
   ]
  },
  {
   "cell_type": "code",
   "execution_count": 11,
   "metadata": {
    "tags": []
   },
   "outputs": [
    {
     "data": {
      "image/png": "[encoded data removed]",
      "text/plain": [
       "<Figure size 1296x576 with 1 Axes>"
      ]
     },
     "metadata": {
      "needs_background": "light"
     },
     "output_type": "display_data"
    }
   ],
   "source": [
    "x_size = 100 if ANALYZE_DAYS else 18\n",
    "x_dates = [f\"$_{{{d.split('-')[0]}}}$\\n{d.split('-')[1]}\" for d in sorted(get_interval_dates())]\n",
    "\n",
    "plt.rcParams.update({'font.size': 30})\n",
    "\n",
    "plt.figure(figsize=(x_size,8))\n",
    "last = [0]*len(x_dates)\n",
    "for vaccine_name, freqs in clots_cit.items():\n",
    "    if vaccine_name in VACCINES_TO_CHECK:\n",
    "        plt.bar(x_dates, freqs['freq_cit'], label=vaccines_names[vaccine_name], bottom=last, color=vaccines_color[vaccine_name], width=0.7)\n",
    "        last = [a+b for a,b in zip(last, freqs['freq_cit'])]\n",
    "plt.legend(bbox_to_anchor=(1,.5), loc=\"center left\", fontsize=22)\n",
    "plt.xticks([_date for _date in x_dates])\n",
    "plt.yticks([p/10 for p in range(0,11,1)], [f\"{p}%\" if p%20 == 0 else \"\" for p in range(0,110,10)])\n",
    "plt.tight_layout()\n",
    "plt.savefig(\"output/plot_clots_refs_between_vax.pdf\")\n",
    "plt.show()"
   ]
  },
  {
   "cell_type": "code",
   "execution_count": null,
   "metadata": {},
   "outputs": [],
   "source": []
  }
 ],
 "metadata": {
  "kernelspec": {
   "display_name": "Python 3",
   "language": "python",
   "name": "python3"
  },
  "language_info": {
   "codemirror_mode": {
    "name": "ipython",
    "version": 3
   },
   "file_extension": ".py",
   "mimetype": "text/x-python",
   "name": "python",
   "nbconvert_exporter": "python",
   "pygments_lexer": "ipython3",
   "version": "3.6.8"
  }
 },
 "nbformat": 4,
 "nbformat_minor": 4
}
